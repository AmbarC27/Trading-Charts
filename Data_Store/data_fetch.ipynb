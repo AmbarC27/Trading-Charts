{
 "cells": [
  {
   "cell_type": "code",
   "execution_count": 70,
   "metadata": {},
   "outputs": [],
   "source": [
    "import yfinance as yf\n",
    "import pandas as pd\n",
    "import certifi\n",
    "import ssl\n",
    "import urllib.request\n",
    "from concurrent.futures import ThreadPoolExecutor, as_completed\n",
    "from sqlalchemy import create_engine\n",
    "import psycopg2"
   ]
  },
  {
   "cell_type": "code",
   "execution_count": 54,
   "metadata": {},
   "outputs": [
    {
     "name": "stdout",
     "output_type": "stream",
     "text": [
      "330\n"
     ]
    },
    {
     "data": {
      "text/html": [
       "<div>\n",
       "<style scoped>\n",
       "    .dataframe tbody tr th:only-of-type {\n",
       "        vertical-align: middle;\n",
       "    }\n",
       "\n",
       "    .dataframe tbody tr th {\n",
       "        vertical-align: top;\n",
       "    }\n",
       "\n",
       "    .dataframe thead th {\n",
       "        text-align: right;\n",
       "    }\n",
       "</style>\n",
       "<table border=\"1\" class=\"dataframe\">\n",
       "  <thead>\n",
       "    <tr style=\"text-align: right;\">\n",
       "      <th></th>\n",
       "      <th>Datetime</th>\n",
       "      <th>Open</th>\n",
       "      <th>High</th>\n",
       "      <th>Low</th>\n",
       "      <th>Close</th>\n",
       "      <th>Volume</th>\n",
       "      <th>Dividends</th>\n",
       "      <th>Stock Splits</th>\n",
       "    </tr>\n",
       "  </thead>\n",
       "  <tbody>\n",
       "    <tr>\n",
       "      <th>0</th>\n",
       "      <td>2024-10-25 09:30:00-04:00</td>\n",
       "      <td>229.740005</td>\n",
       "      <td>230.550003</td>\n",
       "      <td>229.570007</td>\n",
       "      <td>230.350006</td>\n",
       "      <td>1583225</td>\n",
       "      <td>0.0</td>\n",
       "      <td>0.0</td>\n",
       "    </tr>\n",
       "    <tr>\n",
       "      <th>1</th>\n",
       "      <td>2024-10-25 09:31:00-04:00</td>\n",
       "      <td>230.360001</td>\n",
       "      <td>231.119995</td>\n",
       "      <td>230.195007</td>\n",
       "      <td>230.865005</td>\n",
       "      <td>292564</td>\n",
       "      <td>0.0</td>\n",
       "      <td>0.0</td>\n",
       "    </tr>\n",
       "    <tr>\n",
       "      <th>2</th>\n",
       "      <td>2024-10-25 09:32:00-04:00</td>\n",
       "      <td>230.860001</td>\n",
       "      <td>231.289993</td>\n",
       "      <td>230.780106</td>\n",
       "      <td>230.910004</td>\n",
       "      <td>188562</td>\n",
       "      <td>0.0</td>\n",
       "      <td>0.0</td>\n",
       "    </tr>\n",
       "    <tr>\n",
       "      <th>3</th>\n",
       "      <td>2024-10-25 09:33:00-04:00</td>\n",
       "      <td>230.938995</td>\n",
       "      <td>231.339996</td>\n",
       "      <td>230.889999</td>\n",
       "      <td>231.333801</td>\n",
       "      <td>150528</td>\n",
       "      <td>0.0</td>\n",
       "      <td>0.0</td>\n",
       "    </tr>\n",
       "    <tr>\n",
       "      <th>4</th>\n",
       "      <td>2024-10-25 09:34:00-04:00</td>\n",
       "      <td>231.279999</td>\n",
       "      <td>231.369705</td>\n",
       "      <td>231.020096</td>\n",
       "      <td>231.110001</td>\n",
       "      <td>124380</td>\n",
       "      <td>0.0</td>\n",
       "      <td>0.0</td>\n",
       "    </tr>\n",
       "  </tbody>\n",
       "</table>\n",
       "</div>"
      ],
      "text/plain": [
       "                   Datetime        Open        High         Low       Close  \\\n",
       "0 2024-10-25 09:30:00-04:00  229.740005  230.550003  229.570007  230.350006   \n",
       "1 2024-10-25 09:31:00-04:00  230.360001  231.119995  230.195007  230.865005   \n",
       "2 2024-10-25 09:32:00-04:00  230.860001  231.289993  230.780106  230.910004   \n",
       "3 2024-10-25 09:33:00-04:00  230.938995  231.339996  230.889999  231.333801   \n",
       "4 2024-10-25 09:34:00-04:00  231.279999  231.369705  231.020096  231.110001   \n",
       "\n",
       "    Volume  Dividends  Stock Splits  \n",
       "0  1583225        0.0           0.0  \n",
       "1   292564        0.0           0.0  \n",
       "2   188562        0.0           0.0  \n",
       "3   150528        0.0           0.0  \n",
       "4   124380        0.0           0.0  "
      ]
     },
     "execution_count": 54,
     "metadata": {},
     "output_type": "execute_result"
    }
   ],
   "source": [
    "# Define the ticker symbol\n",
    "ticker_symbol = 'AAPL'\n",
    "\n",
    "# Fetch the ticker data\n",
    "ticker = yf.Ticker(ticker_symbol)\n",
    "\n",
    "# Get historical market data (trading info)\n",
    "trading_info = ticker.history(period=\"1d\",interval=\"1m\")  # You can change the period (\"1d\", \"5d\", \"1mo\", \"3mo\", etc.)\n",
    "trading_info = trading_info.reset_index()\n",
    "print(len(trading_info))\n",
    "# Display the trading information\n",
    "trading_info.head()"
   ]
  },
  {
   "cell_type": "code",
   "execution_count": 93,
   "metadata": {},
   "outputs": [
    {
     "data": {
      "text/plain": [
       "['MMM', 'AOS', 'ABT', 'ABBV', 'ACN']"
      ]
     },
     "execution_count": 93,
     "metadata": {},
     "output_type": "execute_result"
    }
   ],
   "source": [
    "# Set up SSL context using certifi's certificates\n",
    "ssl_context = ssl.create_default_context(cafile=certifi.where())\n",
    "\n",
    "# Scrape the S&P 500 list from Wikipedia using urllib with the SSL context\n",
    "url = \"https://en.wikipedia.org/wiki/List_of_S%26P_500_companies\"\n",
    "response = urllib.request.urlopen(url, context=ssl_context)\n",
    "html = response.read()\n",
    "\n",
    "# Use pandas to parse the HTML and extract the table\n",
    "table = pd.read_html(html)\n",
    "\n",
    "# Extract the first table (which contains the ticker symbols)\n",
    "sp500_df = table[0]\n",
    "\n",
    "# Get the list of ticker symbols\n",
    "tickers = sp500_df['Symbol'].tolist()\n",
    "\n",
    "# Show the first 5 tickers as a preview\n",
    "tickers[:5]"
   ]
  },
  {
   "cell_type": "code",
   "execution_count": 94,
   "metadata": {},
   "outputs": [],
   "source": [
    "def fetch_ticker_data(ticker_symbol,period=\"1d\",interval=\"1m\"):\n",
    "\n",
    "    # Fetch the ticker data\n",
    "    ticker = yf.Ticker(ticker_symbol)\n",
    "\n",
    "    # Get historical market data (trading info)\n",
    "    trading_info = ticker.history(period=period,interval=interval)  # You can change the period (\"1d\", \"5d\", \"1mo\", \"3mo\", etc.)\n",
    "    trading_info['ticker'] = ticker_symbol\n",
    "\n",
    "    return trading_info"
   ]
  },
  {
   "cell_type": "code",
   "execution_count": 89,
   "metadata": {},
   "outputs": [
    {
     "data": {
      "text/plain": [
       "379"
      ]
     },
     "execution_count": 89,
     "metadata": {},
     "output_type": "execute_result"
    }
   ],
   "source": [
    "len(fetch_ticker_data('AAPL'))"
   ]
  },
  {
   "cell_type": "code",
   "execution_count": 34,
   "metadata": {},
   "outputs": [
    {
     "name": "stdout",
     "output_type": "stream",
     "text": [
      "              Open        High         Low       Close    Volume  Dividends  \\\n",
      "0       219.860001  220.419998  218.617004  220.125000         0        0.0   \n",
      "1       220.100006  220.270004  217.330002  217.490005   5667186        0.0   \n",
      "2       218.850006  219.149902  216.009995  217.399994  10822541        0.0   \n",
      "3       217.395004  218.154007  216.455902  217.955399   4349192        0.0   \n",
      "4       217.955002  219.020004  217.509995  218.691193   4508080        0.0   \n",
      "...            ...         ...         ...         ...       ...        ...   \n",
      "229363  232.119995  233.199997  232.119995  232.229996   4138746        0.0   \n",
      "229364  232.229996  232.731995  231.759995  232.710007   3211126        0.0   \n",
      "229365  232.735001  232.940002  231.529999  231.857498   2367087        0.0   \n",
      "229366  231.830002  231.971497  231.070007  231.839996   2818009        0.0   \n",
      "229367  231.846893  232.119995  231.669998  232.035004    699856        0.0   \n",
      "\n",
      "        Stock Splits Ticker  \n",
      "0                0.0   AAPL  \n",
      "1                0.0   AAPL  \n",
      "2                0.0   AAPL  \n",
      "3                0.0   AAPL  \n",
      "4                0.0   AAPL  \n",
      "...              ...    ...  \n",
      "229363           0.0   AAPL  \n",
      "229364           0.0   AAPL  \n",
      "229365           0.0   AAPL  \n",
      "229366           0.0   AAPL  \n",
      "229367           0.0   AAPL  \n",
      "\n",
      "[229368 rows x 8 columns]\n"
     ]
    }
   ],
   "source": [
    "all_data = pd.DataFrame()\n",
    "for ticker in tickers:\n",
    "    try:\n",
    "        trading_info = fetch_ticker_data(ticker)\n",
    "        all_data = pd.concat([all_data, trading_info],ignore_index=True)\n",
    "    except:\n",
    "        print(f\"Failed to fetch data for {ticker}\")\n",
    "\n",
    "print(all_data)"
   ]
  },
  {
   "cell_type": "code",
   "execution_count": 95,
   "metadata": {},
   "outputs": [],
   "source": [
    "def fetch_data_parallel(tickers, max_workers=10):\n",
    "    all_data = pd.DataFrame()\n",
    "\n",
    "    # Use ThreadPoolExecutor to fetch data in parallel\n",
    "    with ThreadPoolExecutor(max_workers=max_workers) as executor:\n",
    "        # Submit the tasks to the thread pool\n",
    "        futures = {executor.submit(fetch_ticker_data, ticker): ticker for ticker in tickers}\n",
    "\n",
    "        # As the tasks complete, process the results\n",
    "        for future in as_completed(futures):\n",
    "            ticker = futures[future]\n",
    "            try:\n",
    "                # Get the result of the completed task\n",
    "                trading_info = future.result()\n",
    "                trading_info.reset_index(inplace=True)\n",
    "                if not trading_info.empty:  # Only append if data is returned\n",
    "                    all_data = pd.concat([all_data, trading_info],ignore_index=True)\n",
    "            except Exception as e:\n",
    "                print(f\"Error processing data for {ticker}: {e}\")\n",
    "\n",
    "    return all_data"
   ]
  },
  {
   "cell_type": "code",
   "execution_count": 96,
   "metadata": {},
   "outputs": [
    {
     "name": "stderr",
     "output_type": "stream",
     "text": [
      "$BF.B: possibly delisted; no price data found  (period=1d)\n",
      "$BRK.B: possibly delisted; no price data found  (period=1d) (Yahoo error = \"No data found, symbol may be delisted\")\n"
     ]
    },
    {
     "name": "stdout",
     "output_type": "stream",
     "text": [
      "168242\n",
      "168242\n"
     ]
    }
   ],
   "source": [
    "all_data = fetch_data_parallel(tickers, max_workers=10)\n",
    "all_data.columns = all_data.columns.str.lower()\n",
    "print(len(all_data))\n",
    "all_data.drop_duplicates(subset=['datetime', 'ticker'], keep='first',inplace=True)\n",
    "print(len(all_data))"
   ]
  },
  {
   "cell_type": "code",
   "execution_count": 97,
   "metadata": {},
   "outputs": [
    {
     "name": "stdout",
     "output_type": "stream",
     "text": [
      "19.920597076416016\n",
      "                        datetime        open        high         low  \\\n",
      "0      2024-10-25 09:30:00-04:00  189.679993  189.850006  189.000000   \n",
      "1      2024-10-25 09:31:00-04:00  189.679993  189.699997  189.419998   \n",
      "2      2024-10-25 09:32:00-04:00  189.669998  189.880005  189.589996   \n",
      "3      2024-10-25 09:33:00-04:00  189.660004  189.660004  189.130005   \n",
      "4      2024-10-25 09:34:00-04:00  189.404999  189.500000  189.220001   \n",
      "...                          ...         ...         ...         ...   \n",
      "168237 2024-10-25 15:55:00-04:00  360.670013  360.730011  360.380005   \n",
      "168238 2024-10-25 15:56:00-04:00  360.450012  360.450012  360.304993   \n",
      "168239 2024-10-25 15:57:00-04:00  360.420013  360.420013  360.109985   \n",
      "168240 2024-10-25 15:58:00-04:00  359.940002  359.950012  359.880005   \n",
      "168241 2024-10-25 15:59:00-04:00  359.934998  360.079987  359.829987   \n",
      "\n",
      "             close  volume  dividends  stock splits ticker  \n",
      "0       189.639999   96574        0.0           0.0   ABBV  \n",
      "1       189.699997    2947        0.0           0.0   ABBV  \n",
      "2       189.679993    7872        0.0           0.0   ABBV  \n",
      "3       189.360001    8653        0.0           0.0   ABBV  \n",
      "4       189.335007    3346        0.0           0.0   ABBV  \n",
      "...            ...     ...        ...           ...    ...  \n",
      "168237  360.480011    4425        0.0           0.0   ZBRA  \n",
      "168238  360.420013    3420        0.0           0.0   ZBRA  \n",
      "168239  360.109985    6000        0.0           0.0   ZBRA  \n",
      "168240  359.880005    6906        0.0           0.0   ZBRA  \n",
      "168241  359.970001   18297        0.0           0.0   ZBRA  \n",
      "\n",
      "[168242 rows x 9 columns]\n",
      "<class 'pandas._libs.tslibs.timestamps.Timestamp'>\n"
     ]
    }
   ],
   "source": [
    "memory_usage = all_data.memory_usage(deep=True).sum()/(1024**2)\n",
    "print(memory_usage)\n",
    "print(all_data)\n",
    "print(type(all_data['datetime'][0]))"
   ]
  },
  {
   "cell_type": "code",
   "execution_count": 98,
   "metadata": {},
   "outputs": [],
   "source": [
    "db_user = 'ambarchakraborty'\n",
    "db_password = 'ChakraA%402706'\n",
    "db_host = 'localhost'\n",
    "db_port = '5432'\n",
    "db_name = 'yfinance'\n",
    "\n",
    "# Create SQLAlchemy engine\n",
    "engine = create_engine(f'postgresql+psycopg2://{db_user}:{db_password}@{db_host}:{db_port}/{db_name}')"
   ]
  },
  {
   "cell_type": "code",
   "execution_count": 99,
   "metadata": {},
   "outputs": [
    {
     "data": {
      "text/plain": [
       "242"
      ]
     },
     "execution_count": 99,
     "metadata": {},
     "output_type": "execute_result"
    }
   ],
   "source": [
    "all_data.to_sql('stocks', engine, if_exists='append', index=False)"
   ]
  }
 ],
 "metadata": {
  "kernelspec": {
   "display_name": "Python 3",
   "language": "python",
   "name": "python3"
  },
  "language_info": {
   "codemirror_mode": {
    "name": "ipython",
    "version": 3
   },
   "file_extension": ".py",
   "mimetype": "text/x-python",
   "name": "python",
   "nbconvert_exporter": "python",
   "pygments_lexer": "ipython3",
   "version": "3.11.5"
  },
  "orig_nbformat": 4
 },
 "nbformat": 4,
 "nbformat_minor": 2
}
